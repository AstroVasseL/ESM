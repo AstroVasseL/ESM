{
 "cells": [
  {
   "cell_type": "code",
   "execution_count": 2,
   "id": "da07715c",
   "metadata": {},
   "outputs": [],
   "source": [
    "import numpy as np\n",
    "from scipy import integrate\n",
    "import matplotlib.pyplot as plt"
   ]
  },
  {
   "cell_type": "code",
   "execution_count": 4,
   "id": "18bae769",
   "metadata": {},
   "outputs": [],
   "source": [
    "def u(t):\n",
    "    f = 7.3e-5\n",
    "    return 10*np.cos(f*t)"
   ]
  },
  {
   "cell_type": "markdown",
   "id": "ae7f43ea",
   "metadata": {},
   "source": [
    "## Leapfrog scheme"
   ]
  },
  {
   "cell_type": "code",
   "execution_count": null,
   "id": "0943dfc8",
   "metadata": {},
   "outputs": [],
   "source": []
  },
  {
   "cell_type": "code",
   "execution_count": 3,
   "id": "159210d3",
   "metadata": {},
   "outputs": [],
   "source": []
  },
  {
   "cell_type": "code",
   "execution_count": null,
   "id": "8d0d0465",
   "metadata": {},
   "outputs": [],
   "source": []
  },
  {
   "cell_type": "markdown",
   "id": "7497cbe8",
   "metadata": {},
   "source": [
    "## Matsuno’s scheme"
   ]
  },
  {
   "cell_type": "code",
   "execution_count": null,
   "id": "a28c08f9",
   "metadata": {},
   "outputs": [],
   "source": []
  },
  {
   "cell_type": "markdown",
   "id": "bdfb551d",
   "metadata": {},
   "source": [
    "## Heun's scheme"
   ]
  },
  {
   "cell_type": "code",
   "execution_count": null,
   "id": "8ebf3986",
   "metadata": {},
   "outputs": [],
   "source": []
  },
  {
   "cell_type": "code",
   "execution_count": null,
   "id": "2d5ae05c",
   "metadata": {},
   "outputs": [],
   "source": []
  }
 ],
 "metadata": {
  "kernelspec": {
   "display_name": "Python 3 (ipykernel)",
   "language": "python",
   "name": "python3"
  },
  "language_info": {
   "codemirror_mode": {
    "name": "ipython",
    "version": 3
   },
   "file_extension": ".py",
   "mimetype": "text/x-python",
   "name": "python",
   "nbconvert_exporter": "python",
   "pygments_lexer": "ipython3",
   "version": "3.9.12"
  }
 },
 "nbformat": 4,
 "nbformat_minor": 5
}
