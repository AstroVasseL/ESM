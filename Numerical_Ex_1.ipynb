{
 "cells": [
  {
   "cell_type": "code",
   "execution_count": 2,
   "id": "f391ba39",
   "metadata": {},
   "outputs": [],
   "source": [
    "import numpy as np\n",
    "from scipy import integrate\n",
    "import matplotlib.pyplot as plt"
   ]
  },
  {
   "cell_type": "markdown",
   "id": "caa9b493",
   "metadata": {},
   "source": [
    "## Leapfrog scheme"
   ]
  },
  {
   "cell_type": "code",
   "execution_count": null,
   "id": "b73447af",
   "metadata": {},
   "outputs": [],
   "source": []
  },
  {
   "cell_type": "markdown",
   "id": "2a87a8ed",
   "metadata": {},
   "source": [
    "## Matsuno’s scheme"
   ]
  },
  {
   "cell_type": "code",
   "execution_count": null,
   "id": "4f715035",
   "metadata": {},
   "outputs": [],
   "source": []
  },
  {
   "cell_type": "markdown",
   "id": "bf15ad1d",
   "metadata": {},
   "source": [
    "## Heun's scheme"
   ]
  },
  {
   "cell_type": "code",
   "execution_count": null,
   "id": "fd73310c",
   "metadata": {},
   "outputs": [],
   "source": []
  },
  {
   "cell_type": "code",
   "execution_count": null,
   "id": "0edbb755",
   "metadata": {},
   "outputs": [],
   "source": []
  }
 ],
 "metadata": {
  "kernelspec": {
   "display_name": "Python 3 (ipykernel)",
   "language": "python",
   "name": "python3"
  },
  "language_info": {
   "codemirror_mode": {
    "name": "ipython",
    "version": 3
   },
   "file_extension": ".py",
   "mimetype": "text/x-python",
   "name": "python",
   "nbconvert_exporter": "python",
   "pygments_lexer": "ipython3",
   "version": "3.9.12"
  }
 },
 "nbformat": 4,
 "nbformat_minor": 5
}
