{
 "cells": [
  {
   "cell_type": "code",
   "execution_count": 2,
   "id": "e67c7e25",
   "metadata": {},
   "outputs": [],
   "source": [
    "import numpy as np\n",
    "from scipy import integrate\n",
    "import matplotlib.pyplot as plt"
   ]
  },
  {
   "cell_type": "code",
   "execution_count": 5,
   "id": "7a1a063e",
   "metadata": {},
   "outputs": [],
   "source": [
    "def u(t):\n",
    "    f = 7.3e-5\n",
    "    return 10*np.cos(f*t)"
   ]
  },
  {
   "cell_type": "markdown",
   "id": "73bcfd1c",
   "metadata": {},
   "source": [
    "## Leapfrog scheme"
   ]
  },
  {
   "cell_type": "code",
   "execution_count": null,
   "id": "e6ddf8a3",
   "metadata": {},
   "outputs": [],
   "source": []
  },
  {
   "cell_type": "code",
   "execution_count": 3,
   "id": "ec589474",
   "metadata": {},
   "outputs": [],
   "source": []
  },
  {
   "cell_type": "code",
   "execution_count": null,
   "id": "177d1b2f",
   "metadata": {},
   "outputs": [],
   "source": []
  },
  {
   "cell_type": "markdown",
   "id": "3a948300",
   "metadata": {},
   "source": [
    "## Matsuno’s scheme"
   ]
  },
  {
   "cell_type": "code",
   "execution_count": null,
   "id": "d88138da",
   "metadata": {},
   "outputs": [],
   "source": []
  },
  {
   "cell_type": "markdown",
   "id": "28b5c2d7",
   "metadata": {},
   "source": [
    "## Heun's scheme"
   ]
  },
  {
   "cell_type": "code",
   "execution_count": null,
   "id": "6f672d7a",
   "metadata": {},
   "outputs": [],
   "source": []
  },
  {
   "cell_type": "code",
   "execution_count": null,
   "id": "1b5c6bee",
   "metadata": {},
   "outputs": [],
   "source": []
  }
 ],
 "metadata": {
  "kernelspec": {
   "display_name": "Python 3 (ipykernel)",
   "language": "python",
   "name": "python3"
  },
  "language_info": {
   "codemirror_mode": {
    "name": "ipython",
    "version": 3
   },
   "file_extension": ".py",
   "mimetype": "text/x-python",
   "name": "python",
   "nbconvert_exporter": "python",
   "pygments_lexer": "ipython3",
   "version": "3.9.12"
  }
 },
 "nbformat": 4,
 "nbformat_minor": 5
}
